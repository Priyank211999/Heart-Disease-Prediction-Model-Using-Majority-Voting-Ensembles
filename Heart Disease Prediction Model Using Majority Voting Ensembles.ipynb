{
 "cells": [
  {
   "cell_type": "markdown",
   "metadata": {},
   "source": [
    "# Heart Disease Prediction Model Using Majority Voting Ensembles"
   ]
  },
  {
   "cell_type": "markdown",
   "metadata": {},
   "source": [
    "## Implementation"
   ]
  },
  {
   "cell_type": "code",
   "execution_count": 1,
   "metadata": {},
   "outputs": [],
   "source": [
    "#importing the libraries\n",
    "import numpy as np\n",
    "import pandas as pd\n",
    "import matplotlib.pyplot as plt\n",
    "import seaborn as sns\n",
    "from sklearn.metrics import confusion_matrix"
   ]
  },
  {
   "cell_type": "code",
   "execution_count": 2,
   "metadata": {},
   "outputs": [],
   "source": [
    "#importing the dataset\n",
    "dataset=pd.read_csv('desktop\\Heart(2).csv')"
   ]
  },
  {
   "cell_type": "code",
   "execution_count": 3,
   "metadata": {},
   "outputs": [
    {
     "name": "stdout",
     "output_type": "stream",
     "text": [
      "     age  sex  cp  trestbps  chol  fbs  restecg  thalach  exang  oldpeak  \\\n",
      "0     63    1   3       145   233    1        0      150      0      2.3   \n",
      "1     37    1   2       130   250    0        1      187      0      3.5   \n",
      "2     41    0   1       130   204    0        0      172      0      1.4   \n",
      "3     56    1   1       120   236    0        1      178      0      0.8   \n",
      "4     57    0   0       120   354    0        1      163      1      0.6   \n",
      "5     57    1   0       140   192    0        1      148      0      0.4   \n",
      "6     56    0   1       140   294    0        0      153      0      1.3   \n",
      "7     44    1   1       120   263    0        1      173      0      0.0   \n",
      "8     52    1   2       172   199    1        1      162      0      0.5   \n",
      "9     57    1   2       150   168    0        1      174      0      1.6   \n",
      "10    54    1   0       140   239    0        1      160      0      1.2   \n",
      "11    48    0   2       130   275    0        1      139      0      0.2   \n",
      "12    49    1   1       130   266    0        1      171      0      0.6   \n",
      "13    64    1   3       110   211    0        0      144      1      1.8   \n",
      "14    58    0   3       150   283    1        0      162      0      1.0   \n",
      "15    50    0   2       120   219    0        1      158      0      1.6   \n",
      "16    58    0   2       120   340    0        1      172      0      0.0   \n",
      "17    66    0   3       150   226    0        1      114      0      2.6   \n",
      "18    43    1   0       150   247    0        1      171      0      1.5   \n",
      "19    69    0   3       140   239    0        1      151      0      1.8   \n",
      "20    59    1   0       135   234    0        1      161      0      0.5   \n",
      "21    44    1   2       130   233    0        1      179      1      0.4   \n",
      "22    42    1   0       140   226    0        1      178      0      0.0   \n",
      "23    61    1   2       150   243    1        1      137      1      1.0   \n",
      "24    40    1   3       140   199    0        1      178      1      1.4   \n",
      "25    71    0   1       160   302    0        1      162      0      0.4   \n",
      "26    59    1   2       150   212    1        1      157      0      1.6   \n",
      "27    51    1   2       110   175    0        1      123      0      0.6   \n",
      "28    65    0   2       140   417    1        0      157      0      0.8   \n",
      "29    53    1   2       130   197    1        0      152      0      1.2   \n",
      "..   ...  ...  ..       ...   ...  ...      ...      ...    ...      ...   \n",
      "273   58    1   0       100   234    0        1      156      0      0.1   \n",
      "274   47    1   0       110   275    0        0      118      1      1.0   \n",
      "275   52    1   0       125   212    0        1      168      0      1.0   \n",
      "276   58    1   0       146   218    0        1      105      0      2.0   \n",
      "277   57    1   1       124   261    0        1      141      0      0.3   \n",
      "278   58    0   1       136   319    1        0      152      0      0.0   \n",
      "279   61    1   0       138   166    0        0      125      1      3.6   \n",
      "280   42    1   0       136   315    0        1      125      1      1.8   \n",
      "281   52    1   0       128   204    1        1      156      1      1.0   \n",
      "282   59    1   2       126   218    1        1      134      0      2.2   \n",
      "283   40    1   0       152   223    0        1      181      0      0.0   \n",
      "284   61    1   0       140   207    0        0      138      1      1.9   \n",
      "285   46    1   0       140   311    0        1      120      1      1.8   \n",
      "286   59    1   3       134   204    0        1      162      0      0.8   \n",
      "287   57    1   1       154   232    0        0      164      0      0.0   \n",
      "288   57    1   0       110   335    0        1      143      1      3.0   \n",
      "289   55    0   0       128   205    0        2      130      1      2.0   \n",
      "290   61    1   0       148   203    0        1      161      0      0.0   \n",
      "291   58    1   0       114   318    0        2      140      0      4.4   \n",
      "292   58    0   0       170   225    1        0      146      1      2.8   \n",
      "293   67    1   2       152   212    0        0      150      0      0.8   \n",
      "294   44    1   0       120   169    0        1      144      1      2.8   \n",
      "295   63    1   0       140   187    0        0      144      1      4.0   \n",
      "296   63    0   0       124   197    0        1      136      1      0.0   \n",
      "297   59    1   0       164   176    1        0       90      0      1.0   \n",
      "298   57    0   0       140   241    0        1      123      1      0.2   \n",
      "299   45    1   3       110   264    0        1      132      0      1.2   \n",
      "300   68    1   0       144   193    1        1      141      0      3.4   \n",
      "301   57    1   0       130   131    0        1      115      1      1.2   \n",
      "302   57    0   1       130   236    0        0      174      0      0.0   \n",
      "\n",
      "     slope  ca  thal  target  \n",
      "0        0   0     1       1  \n",
      "1        0   0     2       1  \n",
      "2        2   0     2       1  \n",
      "3        2   0     2       1  \n",
      "4        2   0     2       1  \n",
      "5        1   0     1       1  \n",
      "6        1   0     2       1  \n",
      "7        2   0     3       1  \n",
      "8        2   0     3       1  \n",
      "9        2   0     2       1  \n",
      "10       2   0     2       1  \n",
      "11       2   0     2       1  \n",
      "12       2   0     2       1  \n",
      "13       1   0     2       1  \n",
      "14       2   0     2       1  \n",
      "15       1   0     2       1  \n",
      "16       2   0     2       1  \n",
      "17       0   0     2       1  \n",
      "18       2   0     2       1  \n",
      "19       2   2     2       1  \n",
      "20       1   0     3       1  \n",
      "21       2   0     2       1  \n",
      "22       2   0     2       1  \n",
      "23       1   0     2       1  \n",
      "24       2   0     3       1  \n",
      "25       2   2     2       1  \n",
      "26       2   0     2       1  \n",
      "27       2   0     2       1  \n",
      "28       2   1     2       1  \n",
      "29       0   0     2       1  \n",
      "..     ...  ..   ...     ...  \n",
      "273      2   1     3       0  \n",
      "274      1   1     2       0  \n",
      "275      2   2     3       0  \n",
      "276      1   1     3       0  \n",
      "277      2   0     3       0  \n",
      "278      2   2     2       0  \n",
      "279      1   1     2       0  \n",
      "280      1   0     1       0  \n",
      "281      1   0     0       0  \n",
      "282      1   1     1       0  \n",
      "283      2   0     3       0  \n",
      "284      2   1     3       0  \n",
      "285      1   2     3       0  \n",
      "286      2   2     2       0  \n",
      "287      2   1     2       0  \n",
      "288      1   1     3       0  \n",
      "289      1   1     3       0  \n",
      "290      2   1     3       0  \n",
      "291      0   3     1       0  \n",
      "292      1   2     1       0  \n",
      "293      1   0     3       0  \n",
      "294      0   0     1       0  \n",
      "295      2   2     3       0  \n",
      "296      1   0     2       0  \n",
      "297      1   2     1       0  \n",
      "298      1   0     3       0  \n",
      "299      1   0     3       0  \n",
      "300      1   2     3       0  \n",
      "301      1   1     3       0  \n",
      "302      1   1     2       0  \n",
      "\n",
      "[303 rows x 14 columns]\n"
     ]
    }
   ],
   "source": [
    "print(dataset)"
   ]
  },
  {
   "cell_type": "code",
   "execution_count": 5,
   "metadata": {},
   "outputs": [
    {
     "data": {
      "text/html": [
       "<div>\n",
       "<style scoped>\n",
       "    .dataframe tbody tr th:only-of-type {\n",
       "        vertical-align: middle;\n",
       "    }\n",
       "\n",
       "    .dataframe tbody tr th {\n",
       "        vertical-align: top;\n",
       "    }\n",
       "\n",
       "    .dataframe thead th {\n",
       "        text-align: right;\n",
       "    }\n",
       "</style>\n",
       "<table border=\"1\" class=\"dataframe\">\n",
       "  <thead>\n",
       "    <tr style=\"text-align: right;\">\n",
       "      <th></th>\n",
       "      <th>age</th>\n",
       "      <th>sex</th>\n",
       "      <th>cp</th>\n",
       "      <th>trestbps</th>\n",
       "      <th>chol</th>\n",
       "      <th>fbs</th>\n",
       "      <th>restecg</th>\n",
       "      <th>thalach</th>\n",
       "      <th>exang</th>\n",
       "      <th>oldpeak</th>\n",
       "      <th>slope</th>\n",
       "      <th>ca</th>\n",
       "      <th>thal</th>\n",
       "      <th>target</th>\n",
       "    </tr>\n",
       "  </thead>\n",
       "  <tbody>\n",
       "    <tr>\n",
       "      <th>count</th>\n",
       "      <td>303.000000</td>\n",
       "      <td>303.000000</td>\n",
       "      <td>303.000000</td>\n",
       "      <td>303.000000</td>\n",
       "      <td>303.000000</td>\n",
       "      <td>303.000000</td>\n",
       "      <td>303.000000</td>\n",
       "      <td>303.000000</td>\n",
       "      <td>303.000000</td>\n",
       "      <td>303.000000</td>\n",
       "      <td>303.000000</td>\n",
       "      <td>303.000000</td>\n",
       "      <td>303.000000</td>\n",
       "      <td>303.000000</td>\n",
       "    </tr>\n",
       "    <tr>\n",
       "      <th>mean</th>\n",
       "      <td>54.366337</td>\n",
       "      <td>0.683168</td>\n",
       "      <td>0.966997</td>\n",
       "      <td>131.623762</td>\n",
       "      <td>246.264026</td>\n",
       "      <td>0.148515</td>\n",
       "      <td>0.528053</td>\n",
       "      <td>149.646865</td>\n",
       "      <td>0.326733</td>\n",
       "      <td>1.039604</td>\n",
       "      <td>1.399340</td>\n",
       "      <td>0.729373</td>\n",
       "      <td>2.313531</td>\n",
       "      <td>0.544554</td>\n",
       "    </tr>\n",
       "    <tr>\n",
       "      <th>std</th>\n",
       "      <td>9.082101</td>\n",
       "      <td>0.466011</td>\n",
       "      <td>1.032052</td>\n",
       "      <td>17.538143</td>\n",
       "      <td>51.830751</td>\n",
       "      <td>0.356198</td>\n",
       "      <td>0.525860</td>\n",
       "      <td>22.905161</td>\n",
       "      <td>0.469794</td>\n",
       "      <td>1.161075</td>\n",
       "      <td>0.616226</td>\n",
       "      <td>1.022606</td>\n",
       "      <td>0.612277</td>\n",
       "      <td>0.498835</td>\n",
       "    </tr>\n",
       "    <tr>\n",
       "      <th>min</th>\n",
       "      <td>29.000000</td>\n",
       "      <td>0.000000</td>\n",
       "      <td>0.000000</td>\n",
       "      <td>94.000000</td>\n",
       "      <td>126.000000</td>\n",
       "      <td>0.000000</td>\n",
       "      <td>0.000000</td>\n",
       "      <td>71.000000</td>\n",
       "      <td>0.000000</td>\n",
       "      <td>0.000000</td>\n",
       "      <td>0.000000</td>\n",
       "      <td>0.000000</td>\n",
       "      <td>0.000000</td>\n",
       "      <td>0.000000</td>\n",
       "    </tr>\n",
       "    <tr>\n",
       "      <th>25%</th>\n",
       "      <td>47.500000</td>\n",
       "      <td>0.000000</td>\n",
       "      <td>0.000000</td>\n",
       "      <td>120.000000</td>\n",
       "      <td>211.000000</td>\n",
       "      <td>0.000000</td>\n",
       "      <td>0.000000</td>\n",
       "      <td>133.500000</td>\n",
       "      <td>0.000000</td>\n",
       "      <td>0.000000</td>\n",
       "      <td>1.000000</td>\n",
       "      <td>0.000000</td>\n",
       "      <td>2.000000</td>\n",
       "      <td>0.000000</td>\n",
       "    </tr>\n",
       "    <tr>\n",
       "      <th>50%</th>\n",
       "      <td>55.000000</td>\n",
       "      <td>1.000000</td>\n",
       "      <td>1.000000</td>\n",
       "      <td>130.000000</td>\n",
       "      <td>240.000000</td>\n",
       "      <td>0.000000</td>\n",
       "      <td>1.000000</td>\n",
       "      <td>153.000000</td>\n",
       "      <td>0.000000</td>\n",
       "      <td>0.800000</td>\n",
       "      <td>1.000000</td>\n",
       "      <td>0.000000</td>\n",
       "      <td>2.000000</td>\n",
       "      <td>1.000000</td>\n",
       "    </tr>\n",
       "    <tr>\n",
       "      <th>75%</th>\n",
       "      <td>61.000000</td>\n",
       "      <td>1.000000</td>\n",
       "      <td>2.000000</td>\n",
       "      <td>140.000000</td>\n",
       "      <td>274.500000</td>\n",
       "      <td>0.000000</td>\n",
       "      <td>1.000000</td>\n",
       "      <td>166.000000</td>\n",
       "      <td>1.000000</td>\n",
       "      <td>1.600000</td>\n",
       "      <td>2.000000</td>\n",
       "      <td>1.000000</td>\n",
       "      <td>3.000000</td>\n",
       "      <td>1.000000</td>\n",
       "    </tr>\n",
       "    <tr>\n",
       "      <th>max</th>\n",
       "      <td>77.000000</td>\n",
       "      <td>1.000000</td>\n",
       "      <td>3.000000</td>\n",
       "      <td>200.000000</td>\n",
       "      <td>564.000000</td>\n",
       "      <td>1.000000</td>\n",
       "      <td>2.000000</td>\n",
       "      <td>202.000000</td>\n",
       "      <td>1.000000</td>\n",
       "      <td>6.200000</td>\n",
       "      <td>2.000000</td>\n",
       "      <td>4.000000</td>\n",
       "      <td>3.000000</td>\n",
       "      <td>1.000000</td>\n",
       "    </tr>\n",
       "  </tbody>\n",
       "</table>\n",
       "</div>"
      ],
      "text/plain": [
       "              age         sex          cp    trestbps        chol         fbs  \\\n",
       "count  303.000000  303.000000  303.000000  303.000000  303.000000  303.000000   \n",
       "mean    54.366337    0.683168    0.966997  131.623762  246.264026    0.148515   \n",
       "std      9.082101    0.466011    1.032052   17.538143   51.830751    0.356198   \n",
       "min     29.000000    0.000000    0.000000   94.000000  126.000000    0.000000   \n",
       "25%     47.500000    0.000000    0.000000  120.000000  211.000000    0.000000   \n",
       "50%     55.000000    1.000000    1.000000  130.000000  240.000000    0.000000   \n",
       "75%     61.000000    1.000000    2.000000  140.000000  274.500000    0.000000   \n",
       "max     77.000000    1.000000    3.000000  200.000000  564.000000    1.000000   \n",
       "\n",
       "          restecg     thalach       exang     oldpeak       slope          ca  \\\n",
       "count  303.000000  303.000000  303.000000  303.000000  303.000000  303.000000   \n",
       "mean     0.528053  149.646865    0.326733    1.039604    1.399340    0.729373   \n",
       "std      0.525860   22.905161    0.469794    1.161075    0.616226    1.022606   \n",
       "min      0.000000   71.000000    0.000000    0.000000    0.000000    0.000000   \n",
       "25%      0.000000  133.500000    0.000000    0.000000    1.000000    0.000000   \n",
       "50%      1.000000  153.000000    0.000000    0.800000    1.000000    0.000000   \n",
       "75%      1.000000  166.000000    1.000000    1.600000    2.000000    1.000000   \n",
       "max      2.000000  202.000000    1.000000    6.200000    2.000000    4.000000   \n",
       "\n",
       "             thal      target  \n",
       "count  303.000000  303.000000  \n",
       "mean     2.313531    0.544554  \n",
       "std      0.612277    0.498835  \n",
       "min      0.000000    0.000000  \n",
       "25%      2.000000    0.000000  \n",
       "50%      2.000000    1.000000  \n",
       "75%      3.000000    1.000000  \n",
       "max      3.000000    1.000000  "
      ]
     },
     "execution_count": 5,
     "metadata": {},
     "output_type": "execute_result"
    }
   ],
   "source": [
    "#Description of dataset\n",
    "dataset.describe()"
   ]
  },
  {
   "cell_type": "code",
   "execution_count": 6,
   "metadata": {},
   "outputs": [
    {
     "data": {
      "text/plain": [
       "age         0\n",
       "sex         0\n",
       "cp          0\n",
       "trestbps    0\n",
       "chol        0\n",
       "fbs         0\n",
       "restecg     0\n",
       "thalach     0\n",
       "exang       0\n",
       "oldpeak     0\n",
       "slope       0\n",
       "ca          0\n",
       "thal        0\n",
       "target      0\n",
       "dtype: int64"
      ]
     },
     "execution_count": 6,
     "metadata": {},
     "output_type": "execute_result"
    }
   ],
   "source": [
    "#checking for any missing values in the dataset\n",
    "dataset.isnull().sum()"
   ]
  },
  {
   "cell_type": "code",
   "execution_count": 7,
   "metadata": {
    "scrolled": true
   },
   "outputs": [
    {
     "data": {
      "text/plain": [
       "<matplotlib.axes._subplots.AxesSubplot at 0x25327fe5a58>"
      ]
     },
     "execution_count": 7,
     "metadata": {},
     "output_type": "execute_result"
    },
    {
     "data": {
      "image/png": "[encoded data removed]",
      "text/plain": [
       "<Figure size 1080x432 with 2 Axes>"
      ]
     },
     "metadata": {
      "needs_background": "light"
     },
     "output_type": "display_data"
    }
   ],
   "source": [
    "#plotting correlation values between all the variables\n",
    "plt.figure(figsize=(15,6))\n",
    "sns.heatmap(dataset.corr(),annot=True)"
   ]
  },
  {
   "cell_type": "code",
   "execution_count": 8,
   "metadata": {},
   "outputs": [
    {
     "name": "stdout",
     "output_type": "stream",
     "text": [
      "[1 0]\n"
     ]
    }
   ],
   "source": [
    "#Values in target column\n",
    "print(dataset['target'].unique())"
   ]
  },
  {
   "cell_type": "code",
   "execution_count": 9,
   "metadata": {},
   "outputs": [
    {
     "name": "stdout",
     "output_type": "stream",
     "text": [
      "1    165\n",
      "0    138\n",
      "Name: target, dtype: int64\n",
      "Percentage of patients without disease: 45.54\n",
      "Percentage of patients with disease: 54.46\n"
     ]
    },
    {
     "data": {
      "image/png": "[encoded data removed]",
      "text/plain": [
       "<Figure size 432x288 with 1 Axes>"
      ]
     },
     "metadata": {
      "needs_background": "light"
     },
     "output_type": "display_data"
    }
   ],
   "source": [
    "#Counting the number of patients \"with disease\" and \"without disease\"\n",
    "sns.countplot(dataset['target'])\n",
    "target_numbers = dataset.target.value_counts()\n",
    "print(target_numbers)\n",
    "\n",
    "print(\"Percentage of patients without disease:\",round(target_numbers[0]*100/303,2))\n",
    "print(\"Percentage of patients with disease:\",round(target_numbers[1]*100/303,2))\n"
   ]
  },
  {
   "cell_type": "code",
   "execution_count": 10,
   "metadata": {},
   "outputs": [],
   "source": [
    "#adding dummy variables to deal with categorical variables\n",
    "dataset=pd.get_dummies(dataset,columns=['cp','slope','ca','thal'])"
   ]
  },
  {
   "cell_type": "code",
   "execution_count": 11,
   "metadata": {},
   "outputs": [],
   "source": [
    "#taking the independent and dependent values\n",
    "x=dataset.drop(['target'],axis=1).values\n",
    "y=dataset['target'].values"
   ]
  },
  {
   "cell_type": "code",
   "execution_count": 12,
   "metadata": {},
   "outputs": [
    {
     "data": {
      "text/plain": [
       "<matplotlib.axes._subplots.AxesSubplot at 0x25328125198>"
      ]
     },
     "execution_count": 12,
     "metadata": {},
     "output_type": "execute_result"
    },
    {
     "data": {
      "image/png": "[encoded data removed]",
      "text/plain": [
       "<Figure size 432x288 with 1 Axes>"
      ]
     },
     "metadata": {
      "needs_background": "light"
     },
     "output_type": "display_data"
    }
   ],
   "source": [
    "#graph shows that female are more likely to have heart disease\n",
    "sns.barplot(dataset[\"sex\"],y)\n"
   ]
  },
  {
   "cell_type": "code",
   "execution_count": 13,
   "metadata": {},
   "outputs": [],
   "source": [
    "#dividing the dataset into training and test set\n",
    "from sklearn.model_selection import train_test_split\n",
    "train_x,test_x,train_y,test_y=train_test_split(x,y,test_size=0.2,random_state=0,stratify=y)"
   ]
  },
  {
   "cell_type": "code",
   "execution_count": 14,
   "metadata": {},
   "outputs": [],
   "source": [
    "#performing scaling on all values so as to prevent any one variable to dominate over the other\n",
    "from sklearn.preprocessing import StandardScaler\n",
    "scx=StandardScaler()\n",
    "train_x=scx.fit_transform(train_x)\n",
    "test_x=scx.transform(test_x)"
   ]
  },
  {
   "cell_type": "code",
   "execution_count": 15,
   "metadata": {
    "scrolled": true
   },
   "outputs": [
    {
     "name": "stdout",
     "output_type": "stream",
     "text": [
      "{'n_neighbors': 9}\n",
      "knn :0.9016393442622951\n",
      "[[24  4]\n",
      " [ 2 31]]\n"
     ]
    },
    {
     "name": "stderr",
     "output_type": "stream",
     "text": [
      "E:\\Anaconda\\lib\\site-packages\\sklearn\\model_selection\\_search.py:813: DeprecationWarning: The default of the `iid` parameter will change from True to False in version 0.22 and will be removed in 0.24. This will change numeric results when test-set sizes are unequal.\n",
      "  DeprecationWarning)\n"
     ]
    }
   ],
   "source": [
    "#K-Nearest Neighbors\n",
    "from sklearn.model_selection import GridSearchCV\n",
    "from sklearn.neighbors import KNeighborsClassifier\n",
    "knn=KNeighborsClassifier()\n",
    "\n",
    "#GridSearchCV to find the optimal values of hyperparameters\n",
    "parameters=[{'n_neighbors':np.arange(1,10)}]\n",
    "grid_search=GridSearchCV(knn,parameters,scoring='accuracy',cv=5)\n",
    "grid_search.fit(train_x,train_y)\n",
    "\n",
    "print(grid_search.best_params_)\n",
    "best_knn=grid_search.best_estimator_\n",
    "print('knn :{}'.format(best_knn.score(test_x,test_y)))\n",
    "\n",
    "y_pred_knn=best_knn.predict(test_x)\n",
    "cm=confusion_matrix(test_y,y_pred_knn)\n",
    "print(cm)\n",
    "\n"
   ]
  },
  {
   "cell_type": "code",
   "execution_count": 16,
   "metadata": {},
   "outputs": [
    {
     "data": {
      "text/plain": [
       "<matplotlib.axes._subplots.AxesSubplot at 0x253281d7390>"
      ]
     },
     "execution_count": 16,
     "metadata": {},
     "output_type": "execute_result"
    },
    {
     "data": {
      "image/png": "[encoded data removed]",
      "text/plain": [
       "<Figure size 576x360 with 2 Axes>"
      ]
     },
     "metadata": {
      "needs_background": "light"
     },
     "output_type": "display_data"
    }
   ],
   "source": [
    "#Heatmap\n",
    "plt.figure(figsize=(8,5))\n",
    "sns.heatmap(cm,annot=True)"
   ]
  },
  {
   "cell_type": "code",
   "execution_count": 17,
   "metadata": {},
   "outputs": [
    {
     "name": "stdout",
     "output_type": "stream",
     "text": [
      "Sensitivity_KNN :  0.9393939393939394\n",
      "Specificity_KNN :  0.8571428571428571\n",
      "93.94\n",
      "85.71\n"
     ]
    }
   ],
   "source": [
    "#Calculating Sensitivity and Specificity\n",
    "sensitivity_KNN = cm[1,1]/(cm[1,1]+cm[1,0])\n",
    "print('Sensitivity_KNN : ', sensitivity_KNN )\n",
    "\n",
    "specificity_KNN = cm[0,0]/(cm[0,0]+cm[0,1])\n",
    "print('Specificity_KNN : ', specificity_KNN)\n",
    "\n",
    "sensitivity_KNN=round(sensitivity_KNN*100,2)\n",
    "print(sensitivity_KNN)\n",
    "specificity_KNN=round(specificity_KNN*100,2)\n",
    "print(specificity_KNN)"
   ]
  },
  {
   "cell_type": "code",
   "execution_count": 18,
   "metadata": {},
   "outputs": [
    {
     "name": "stdout",
     "output_type": "stream",
     "text": [
      "Precision_KNN :  0.8857142857142857\n",
      "Negative_Predictive_Value_KNN :  0.9230769230769231\n",
      "88.57\n",
      "92.31\n"
     ]
    }
   ],
   "source": [
    "#Calculating PPV and NPV\n",
    "precision_KNN = cm[1,1]/(cm[1,1]+cm[0,1])\n",
    "print('Precision_KNN : ', precision_KNN )\n",
    "\n",
    "negative_predictive_value_KNN = cm[0,0]/(cm[0,0]+cm[1,0])\n",
    "print('Negative_Predictive_Value_KNN : ', negative_predictive_value_KNN)\n",
    "\n",
    "precision_KNN=round(precision_KNN*100,2)\n",
    "print(precision_KNN)\n",
    "negative_predictive_value_KNN=round(negative_predictive_value_KNN*100,2)\n",
    "print(negative_predictive_value_KNN)"
   ]
  },
  {
   "cell_type": "code",
   "execution_count": 19,
   "metadata": {},
   "outputs": [
    {
     "name": "stderr",
     "output_type": "stream",
     "text": [
      "E:\\Anaconda\\lib\\site-packages\\sklearn\\model_selection\\_search.py:813: DeprecationWarning: The default of the `iid` parameter will change from True to False in version 0.22 and will be removed in 0.24. This will change numeric results when test-set sizes are unequal.\n",
      "  DeprecationWarning)\n"
     ]
    },
    {
     "name": "stdout",
     "output_type": "stream",
     "text": [
      "{'n_estimators': 200}\n",
      "rfc :0.8524590163934426\n",
      "[[24  4]\n",
      " [ 5 28]]\n"
     ]
    }
   ],
   "source": [
    "#Random Forest Classifier\n",
    "from sklearn.ensemble import RandomForestClassifier\n",
    "rfc=RandomForestClassifier()\n",
    "\n",
    "#GridSearchCV to find the optimal values of hyperparameters\n",
    "parameters=[{'n_estimators':[100,150,200]}]\n",
    "grid_search=GridSearchCV(rfc,parameters,scoring='accuracy',cv=5)\n",
    "grid_search.fit(train_x,train_y)\n",
    "\n",
    "print(grid_search.best_params_)\n",
    "best_rfc=grid_search.best_estimator_\n",
    "print('rfc :{}'.format(best_rfc.score(test_x,test_y)))\n",
    "\n",
    "y_pred_rfc=best_rfc.predict(test_x)\n",
    "cm=confusion_matrix(test_y,y_pred_rfc)\n",
    "print(cm)\n"
   ]
  },
  {
   "cell_type": "code",
   "execution_count": 20,
   "metadata": {},
   "outputs": [
    {
     "data": {
      "text/plain": [
       "<matplotlib.axes._subplots.AxesSubplot at 0x253284d5d68>"
      ]
     },
     "execution_count": 20,
     "metadata": {},
     "output_type": "execute_result"
    },
    {
     "data": {
      "image/png": "[encoded data removed]",
      "text/plain": [
       "<Figure size 576x360 with 2 Axes>"
      ]
     },
     "metadata": {
      "needs_background": "light"
     },
     "output_type": "display_data"
    }
   ],
   "source": [
    "#Heatmap\n",
    "plt.figure(figsize=(8,5))\n",
    "sns.heatmap(cm,annot=True)"
   ]
  },
  {
   "cell_type": "code",
   "execution_count": 21,
   "metadata": {},
   "outputs": [
    {
     "name": "stdout",
     "output_type": "stream",
     "text": [
      "Sensitivity_RFC :  0.8484848484848485\n",
      "Specificity_RFC :  0.8571428571428571\n",
      "84.85\n",
      "85.71\n"
     ]
    }
   ],
   "source": [
    "#Calculating Sensitivity and Specificity\n",
    "sensitivity_RFC = cm[1,1]/(cm[1,1]+cm[1,0])\n",
    "print('Sensitivity_RFC : ', sensitivity_RFC )\n",
    "\n",
    "specificity_RFC = cm[0,0]/(cm[0,0]+cm[0,1])\n",
    "print('Specificity_RFC : ', specificity_RFC)\n",
    "\n",
    "sensitivity_RFC=round(sensitivity_RFC*100,2)\n",
    "print(sensitivity_RFC)\n",
    "specificity_RFC=round(specificity_RFC*100,2)\n",
    "print(specificity_RFC)"
   ]
  },
  {
   "cell_type": "code",
   "execution_count": 22,
   "metadata": {},
   "outputs": [
    {
     "name": "stdout",
     "output_type": "stream",
     "text": [
      "Precision_RFC :  0.875\n",
      "Negative_Predictive_Value_RFC :  0.8275862068965517\n",
      "87.5\n",
      "82.76\n"
     ]
    }
   ],
   "source": [
    "#Calculating PPV and NPV\n",
    "precision_RFC = cm[1,1]/(cm[1,1]+cm[0,1])\n",
    "print('Precision_RFC : ', precision_RFC )\n",
    "\n",
    "negative_predictive_value_RFC = cm[0,0]/(cm[0,0]+cm[1,0])\n",
    "print('Negative_Predictive_Value_RFC : ', negative_predictive_value_RFC)\n",
    "\n",
    "precision_RFC=round(precision_RFC*100,2)\n",
    "print(precision_RFC)\n",
    "negative_predictive_value_RFC=round(negative_predictive_value_RFC*100,2)\n",
    "print(negative_predictive_value_RFC)"
   ]
  },
  {
   "cell_type": "code",
   "execution_count": 23,
   "metadata": {},
   "outputs": [
    {
     "name": "stdout",
     "output_type": "stream",
     "text": [
      "{'max_depth': 3}\n",
      "dtc :0.7868852459016393\n",
      "[[21  7]\n",
      " [ 6 27]]\n"
     ]
    },
    {
     "name": "stderr",
     "output_type": "stream",
     "text": [
      "E:\\Anaconda\\lib\\site-packages\\sklearn\\model_selection\\_search.py:813: DeprecationWarning: The default of the `iid` parameter will change from True to False in version 0.22 and will be removed in 0.24. This will change numeric results when test-set sizes are unequal.\n",
      "  DeprecationWarning)\n"
     ]
    }
   ],
   "source": [
    "#Decision Tree\n",
    "from sklearn.tree import DecisionTreeClassifier\n",
    "dtc=DecisionTreeClassifier()\n",
    "\n",
    "#GridSearchCV to find the optimal values of hyperparameters\n",
    "parameters=[{'max_depth':[3,None]},\n",
    "             {'min_samples_leaf':np.arange(1,10)},\n",
    "             {'criterion':['gini','entropy']}]\n",
    "grid_search=GridSearchCV(dtc,parameters,scoring='accuracy',cv=5)\n",
    "grid_search.fit(train_x,train_y)\n",
    "\n",
    "print(grid_search.best_params_)\n",
    "best_dtc=grid_search.best_estimator_\n",
    "print('dtc :{}'.format(best_dtc.score(test_x,test_y)))\n",
    "\n",
    "y_pred_dtc=best_dtc.predict(test_x)\n",
    "cm=confusion_matrix(test_y,y_pred_dtc)\n",
    "print(cm)"
   ]
  },
  {
   "cell_type": "code",
   "execution_count": 24,
   "metadata": {},
   "outputs": [
    {
     "data": {
      "text/plain": [
       "<matplotlib.axes._subplots.AxesSubplot at 0x25328875080>"
      ]
     },
     "execution_count": 24,
     "metadata": {},
     "output_type": "execute_result"
    },
    {
     "data": {
      "image/png": "[encoded data removed]",
      "text/plain": [
       "<Figure size 576x360 with 2 Axes>"
      ]
     },
     "metadata": {
      "needs_background": "light"
     },
     "output_type": "display_data"
    }
   ],
   "source": [
    "#Heatmap\n",
    "plt.figure(figsize=(8,5))\n",
    "sns.heatmap(cm,annot=True)"
   ]
  },
  {
   "cell_type": "code",
   "execution_count": 25,
   "metadata": {},
   "outputs": [
    {
     "name": "stdout",
     "output_type": "stream",
     "text": [
      "Sensitivity_DTC :  0.8181818181818182\n",
      "Specificity_DTC :  0.75\n",
      "81.82\n",
      "75.0\n"
     ]
    }
   ],
   "source": [
    "#Calculating Sensitivity and Specificity\n",
    "sensitivity_DTC = cm[1,1]/(cm[1,1]+cm[1,0])\n",
    "print('Sensitivity_DTC : ', sensitivity_DTC )\n",
    "\n",
    "specificity_DTC = cm[0,0]/(cm[0,0]+cm[0,1])\n",
    "print('Specificity_DTC : ', specificity_DTC)\n",
    "\n",
    "sensitivity_DTC=round(sensitivity_DTC*100,2)\n",
    "print(sensitivity_DTC)\n",
    "specificity_DTC=round(specificity_DTC*100,2)\n",
    "print(specificity_DTC)"
   ]
  },
  {
   "cell_type": "code",
   "execution_count": 26,
   "metadata": {},
   "outputs": [
    {
     "name": "stdout",
     "output_type": "stream",
     "text": [
      "Precision_DTC :  0.7941176470588235\n",
      "Negative_Predictive_Value_DTC :  0.7777777777777778\n",
      "79.41\n",
      "77.78\n"
     ]
    }
   ],
   "source": [
    "#Calculating PPV and NPV\n",
    "precision_DTC = cm[1,1]/(cm[1,1]+cm[0,1])\n",
    "print('Precision_DTC : ', precision_DTC )\n",
    "\n",
    "negative_predictive_value_DTC = cm[0,0]/(cm[0,0]+cm[1,0])\n",
    "print('Negative_Predictive_Value_DTC : ', negative_predictive_value_DTC)\n",
    "\n",
    "precision_DTC=round(precision_DTC*100,2)\n",
    "print(precision_DTC)\n",
    "negative_predictive_value_DTC=round(negative_predictive_value_DTC*100,2)\n",
    "print(negative_predictive_value_DTC)"
   ]
  },
  {
   "cell_type": "code",
   "execution_count": 27,
   "metadata": {},
   "outputs": [
    {
     "name": "stdout",
     "output_type": "stream",
     "text": [
      "nbc: 0.9016393442622951\n",
      "[[24  4]\n",
      " [ 2 31]]\n"
     ]
    }
   ],
   "source": [
    "#Naive Bayes Classifier\n",
    "from sklearn.naive_bayes import GaussianNB\n",
    "nbc=GaussianNB()\n",
    "nbc.fit(train_x,train_y)\n",
    "\n",
    "print('nbc: {}'.format(nbc.score(test_x,test_y)))\n",
    "\n",
    "y_pred_nbc=nbc.predict(test_x)\n",
    "cm=confusion_matrix(test_y,y_pred_nbc)\n",
    "print(cm)"
   ]
  },
  {
   "cell_type": "code",
   "execution_count": 28,
   "metadata": {},
   "outputs": [
    {
     "data": {
      "text/plain": [
       "<matplotlib.axes._subplots.AxesSubplot at 0x253289c4ac8>"
      ]
     },
     "execution_count": 28,
     "metadata": {},
     "output_type": "execute_result"
    },
    {
     "data": {
      "image/png": "[encoded data removed]",
      "text/plain": [
       "<Figure size 576x360 with 2 Axes>"
      ]
     },
     "metadata": {
      "needs_background": "light"
     },
     "output_type": "display_data"
    }
   ],
   "source": [
    "#Heatmap\n",
    "plt.figure(figsize=(8,5))\n",
    "sns.heatmap(cm,annot=True)"
   ]
  },
  {
   "cell_type": "code",
   "execution_count": 29,
   "metadata": {},
   "outputs": [
    {
     "name": "stdout",
     "output_type": "stream",
     "text": [
      "Sensitivity_NBC :  0.9393939393939394\n",
      "Specificity_NBC :  0.8571428571428571\n",
      "93.94\n",
      "85.71\n"
     ]
    }
   ],
   "source": [
    "#Calculating Sensitivity and Specificity\n",
    "sensitivity_NBC = cm[1,1]/(cm[1,1]+cm[1,0])\n",
    "print('Sensitivity_NBC : ', sensitivity_NBC )\n",
    "\n",
    "specificity_NBC = cm[0,0]/(cm[0,0]+cm[0,1])\n",
    "print('Specificity_NBC : ', specificity_NBC)\n",
    "\n",
    "sensitivity_NBC=round(sensitivity_NBC*100,2)\n",
    "print(sensitivity_NBC)\n",
    "specificity_NBC=round(specificity_NBC*100,2)\n",
    "print(specificity_NBC)"
   ]
  },
  {
   "cell_type": "code",
   "execution_count": 30,
   "metadata": {},
   "outputs": [
    {
     "name": "stdout",
     "output_type": "stream",
     "text": [
      "Precision_NBC :  0.8857142857142857\n",
      "Negative_Predictive_Value_NBC :  0.9230769230769231\n",
      "88.57\n",
      "92.31\n"
     ]
    }
   ],
   "source": [
    "#Calculating PPV and NPV\n",
    "precision_NBC = cm[1,1]/(cm[1,1]+cm[0,1])\n",
    "print('Precision_NBC : ', precision_NBC )\n",
    "\n",
    "negative_predictive_value_NBC = cm[0,0]/(cm[0,0]+cm[1,0])\n",
    "print('Negative_Predictive_Value_NBC : ', negative_predictive_value_NBC)\n",
    "\n",
    "precision_NBC=round(precision_NBC*100,2)\n",
    "print(precision_NBC)\n",
    "negative_predictive_value_NBC=round(negative_predictive_value_NBC*100,2)\n",
    "print(negative_predictive_value_NBC)"
   ]
  },
  {
   "cell_type": "code",
   "execution_count": 31,
   "metadata": {},
   "outputs": [
    {
     "name": "stdout",
     "output_type": "stream",
     "text": [
      "[0.9016393442622951, 0.8688524590163934, 0.8360655737704918, 0.8852459016393442]\n",
      "kernel: 0.9016393442622951\n",
      "[[24  4]\n",
      " [ 2 31]]\n"
     ]
    }
   ],
   "source": [
    "#Support Vector Machine\n",
    "from sklearn.svm import SVC\n",
    "svc_scores = []\n",
    "\n",
    "#Finding the best kernel in terms of accuracies\n",
    "kernels = ['linear', 'poly', 'rbf', 'sigmoid']\n",
    "for i in range(len(kernels)):\n",
    "    svc_classifier = SVC(kernel = kernels[i])\n",
    "    svc_classifier.fit(train_x,train_y)\n",
    "    svc_scores.append(svc_classifier.score(test_x, test_y))\n",
    "    \n",
    "print(svc_scores)\n",
    "\n",
    "#Applying the best kernel \n",
    "from sklearn.svm import SVC\n",
    "classifier2 = SVC(kernel = 'linear', random_state = 0,probability=True)\n",
    "#classifier2=svm.SVC(probability=True)\n",
    "classifier2.fit(train_x, train_y)\n",
    "print('kernel: {}'.format(classifier2.score(test_x, test_y)))\n",
    "\n",
    "y_pred_svc=classifier2.predict(test_x)\n",
    "cm=confusion_matrix(test_y,y_pred_svc)\n",
    "print(cm)\n"
   ]
  },
  {
   "cell_type": "code",
   "execution_count": 32,
   "metadata": {},
   "outputs": [
    {
     "data": {
      "text/plain": [
       "<matplotlib.axes._subplots.AxesSubplot at 0x25328a68748>"
      ]
     },
     "execution_count": 32,
     "metadata": {},
     "output_type": "execute_result"
    },
    {
     "data": {
      "image/png": "[encoded data removed]",
      "text/plain": [
       "<Figure size 576x360 with 2 Axes>"
      ]
     },
     "metadata": {
      "needs_background": "light"
     },
     "output_type": "display_data"
    }
   ],
   "source": [
    "#Heatmap\n",
    "plt.figure(figsize=(8,5))\n",
    "sns.heatmap(cm,annot=True)"
   ]
  },
  {
   "cell_type": "code",
   "execution_count": 33,
   "metadata": {},
   "outputs": [
    {
     "name": "stdout",
     "output_type": "stream",
     "text": [
      "Sensitivity_SVC :  0.9393939393939394\n",
      "Specificity_SVC :  0.8571428571428571\n",
      "93.94\n",
      "85.71\n"
     ]
    }
   ],
   "source": [
    "#Calculating Sensitivity and Specificity\n",
    "sensitivity_SVC = cm[1,1]/(cm[1,1]+cm[1,0])\n",
    "print('Sensitivity_SVC : ', sensitivity_SVC )\n",
    "\n",
    "specificity_SVC = cm[0,0]/(cm[0,0]+cm[0,1])\n",
    "print('Specificity_SVC : ', specificity_SVC)\n",
    "\n",
    "sensitivity_SVC=round(sensitivity_SVC*100,2)\n",
    "print(sensitivity_SVC)\n",
    "specificity_SVC=round(specificity_SVC*100,2)\n",
    "print(specificity_SVC)\n",
    "\n"
   ]
  },
  {
   "cell_type": "code",
   "execution_count": 34,
   "metadata": {},
   "outputs": [
    {
     "name": "stdout",
     "output_type": "stream",
     "text": [
      "Precision_SVC :  0.8857142857142857\n",
      "Negative_Predictive_Value_SVC :  0.9230769230769231\n",
      "88.57\n",
      "92.31\n"
     ]
    }
   ],
   "source": [
    "#Calculating PPV and NPV\n",
    "precision_SVC = cm[1,1]/(cm[1,1]+cm[0,1])\n",
    "print('Precision_SVC : ', precision_SVC )\n",
    "\n",
    "negative_predictive_value_SVC = cm[0,0]/(cm[0,0]+cm[1,0])\n",
    "print('Negative_Predictive_Value_SVC : ', negative_predictive_value_SVC)\n",
    "\n",
    "precision_SVC=round(precision_SVC*100,2)\n",
    "print(precision_SVC)\n",
    "negative_predictive_value_SVC=round(negative_predictive_value_SVC*100,2)\n",
    "print(negative_predictive_value_SVC)"
   ]
  },
  {
   "cell_type": "code",
   "execution_count": 35,
   "metadata": {},
   "outputs": [
    {
     "name": "stderr",
     "output_type": "stream",
     "text": [
      "E:\\Anaconda\\lib\\site-packages\\sklearn\\model_selection\\_search.py:813: DeprecationWarning: The default of the `iid` parameter will change from True to False in version 0.22 and will be removed in 0.24. This will change numeric results when test-set sizes are unequal.\n",
      "  DeprecationWarning)\n"
     ]
    },
    {
     "name": "stdout",
     "output_type": "stream",
     "text": [
      "{'learning_rate': 0.125, 'max_depth': 4, 'n_estimators': 100}\n",
      "xgb :0.8524590163934426\n",
      "[[23  5]\n",
      " [ 4 29]]\n"
     ]
    }
   ],
   "source": [
    "#XGBOOST\n",
    "import xgboost as xgb\n",
    "xgb_model = xgb.XGBClassifier()\n",
    "xgb_model.fit(train_x, train_y)\n",
    "\n",
    "#GridSearchCV to find the optimal values of hyperparameters\n",
    "parameters={'n_estimators':[80,100,150,200],'max_depth':np.arange(3,10),'learning_rate': [0.10, 0.125, 0.15, 0.175, 0.2]}\n",
    "grid_search=GridSearchCV(xgb_model,parameters,scoring='accuracy',cv=5)\n",
    "grid_search.fit(train_x,train_y)\n",
    "\n",
    "print(grid_search.best_params_)\n",
    "best_xgb=grid_search.best_estimator_\n",
    "y_pred_xgb=best_xgb.predict(test_x)\n",
    "print('xgb :{}'.format(best_xgb.score(test_x,test_y)))\n",
    "\n",
    "y_pred_xgboost=best_xgb.predict(test_x)\n",
    "cm=confusion_matrix(test_y,y_pred_xgboost)\n",
    "print(cm)"
   ]
  },
  {
   "cell_type": "code",
   "execution_count": 36,
   "metadata": {},
   "outputs": [
    {
     "data": {
      "text/plain": [
       "<matplotlib.axes._subplots.AxesSubplot at 0x25328b06da0>"
      ]
     },
     "execution_count": 36,
     "metadata": {},
     "output_type": "execute_result"
    },
    {
     "data": {
      "image/png": "[encoded data removed]",
      "text/plain": [
       "<Figure size 576x360 with 2 Axes>"
      ]
     },
     "metadata": {
      "needs_background": "light"
     },
     "output_type": "display_data"
    }
   ],
   "source": [
    "#Heatmap\n",
    "plt.figure(figsize=(8,5))\n",
    "sns.heatmap(cm,annot=True)"
   ]
  },
  {
   "cell_type": "code",
   "execution_count": 37,
   "metadata": {},
   "outputs": [
    {
     "name": "stdout",
     "output_type": "stream",
     "text": [
      "Sensitivity_XG :  0.8787878787878788\n",
      "Specificity_XG :  0.8214285714285714\n",
      "87.88\n",
      "82.14\n"
     ]
    }
   ],
   "source": [
    "#Calculating Sensitivity and Specificity\n",
    "sensitivity_XG = cm[1,1]/(cm[1,1]+cm[1,0])\n",
    "print('Sensitivity_XG : ', sensitivity_XG )\n",
    "\n",
    "specificity_XG = cm[0,0]/(cm[0,0]+cm[0,1])\n",
    "print('Specificity_XG : ', specificity_XG)\n",
    "\n",
    "sensitivity_XG=round(sensitivity_XG*100,2)\n",
    "print(sensitivity_XG)\n",
    "specificity_XG=round(specificity_XG*100,2)\n",
    "print(specificity_XG)"
   ]
  },
  {
   "cell_type": "code",
   "execution_count": 38,
   "metadata": {},
   "outputs": [
    {
     "name": "stdout",
     "output_type": "stream",
     "text": [
      "Precision_XG :  0.8529411764705882\n",
      "Negative_Predictive_Value_XG :  0.8518518518518519\n",
      "85.29\n",
      "85.19\n"
     ]
    }
   ],
   "source": [
    "#Calculating PPV and NPV\n",
    "precision_XG =cm[1,1]/(cm[1,1]+cm[0,1])\n",
    "print('Precision_XG : ', precision_XG )\n",
    "\n",
    "negative_predictive_value_XG = cm[0,0]/(cm[0,0]+cm[1,0])\n",
    "print('Negative_Predictive_Value_XG : ', negative_predictive_value_XG)\n",
    "\n",
    "precision_XG=round(precision_XG*100,2)\n",
    "print(precision_XG)\n",
    "negative_predictive_value_XG=round(negative_predictive_value_XG*100,2)\n",
    "print(negative_predictive_value_XG)"
   ]
  },
  {
   "cell_type": "code",
   "execution_count": 39,
   "metadata": {},
   "outputs": [
    {
     "name": "stdout",
     "output_type": "stream",
     "text": [
      "{'learning_rate': 0.125, 'n_estimators': 26}\n",
      "light :0.8524590163934426\n",
      "[[22  6]\n",
      " [ 3 30]]\n"
     ]
    },
    {
     "name": "stderr",
     "output_type": "stream",
     "text": [
      "E:\\Anaconda\\lib\\site-packages\\sklearn\\model_selection\\_search.py:813: DeprecationWarning: The default of the `iid` parameter will change from True to False in version 0.22 and will be removed in 0.24. This will change numeric results when test-set sizes are unequal.\n",
      "  DeprecationWarning)\n"
     ]
    }
   ],
   "source": [
    "#LightGBM\n",
    "import lightgbm as lgb\n",
    "estimator = lgb.LGBMClassifier()\n",
    "\n",
    "#GridSearchCV to find the optimal values of hyperparameters\n",
    "param_grid = {\n",
    "    'n_estimators': [x for x in range(20, 150, 2)],\n",
    "    'learning_rate': [0.10, 0.125, 0.15, 0.175, 0.2]}\n",
    "gridsearch = GridSearchCV(estimator, param_grid)\n",
    "grid = GridSearchCV(estimator=estimator, param_grid=param_grid,n_jobs=-1,cv=5)\n",
    "grid.fit(train_x, train_y)\n",
    "\n",
    "print (grid.best_params_)\n",
    "best_light=grid.best_estimator_\n",
    "y_pred_lightgbm=best_light.predict(test_x)\n",
    "print('light :{}'.format(best_light.score(test_x,test_y)))\n",
    "\n",
    "'''estimator1 = lgb.LGBMClassifier(learning_rate = 0.2, metric = 'l1', \n",
    "                        n_estimators = 60, num_leaves = 38)\n",
    "estimator1.fit(train_x,train_y)\n",
    "\n",
    "print(estimator1.score(test_x,test_y))\n",
    "'''\n",
    "y_pred_lightboost=best_light.predict(test_x)\n",
    "cm=confusion_matrix(test_y,y_pred_lightboost)\n",
    "print(cm)\n"
   ]
  },
  {
   "cell_type": "code",
   "execution_count": 40,
   "metadata": {},
   "outputs": [
    {
     "data": {
      "text/plain": [
       "<matplotlib.axes._subplots.AxesSubplot at 0x2532a5395c0>"
      ]
     },
     "execution_count": 40,
     "metadata": {},
     "output_type": "execute_result"
    },
    {
     "data": {
      "image/png": "[encoded data removed]",
      "text/plain": [
       "<Figure size 576x360 with 2 Axes>"
      ]
     },
     "metadata": {
      "needs_background": "light"
     },
     "output_type": "display_data"
    }
   ],
   "source": [
    "#Heatmap\n",
    "plt.figure(figsize=(8,5))\n",
    "sns.heatmap(cm,annot=True)"
   ]
  },
  {
   "cell_type": "code",
   "execution_count": 41,
   "metadata": {},
   "outputs": [
    {
     "name": "stdout",
     "output_type": "stream",
     "text": [
      "Sensitivity_LIGHT :  0.9090909090909091\n",
      "Specificity_LIGHT :  0.7857142857142857\n",
      "90.91\n",
      "78.57\n"
     ]
    }
   ],
   "source": [
    "#Calculating Sensitivity and Specificity\n",
    "sensitivity_LIGHT = cm[1,1]/(cm[1,1]+cm[1,0])\n",
    "print('Sensitivity_LIGHT : ', sensitivity_LIGHT )\n",
    "\n",
    "specificity_LIGHT = cm[0,0]/(cm[0,0]+cm[0,1])\n",
    "print('Specificity_LIGHT : ', specificity_LIGHT)\n",
    "\n",
    "sensitivity_LIGHT=round(sensitivity_LIGHT*100,2)\n",
    "print(sensitivity_LIGHT)\n",
    "specificity_LIGHT=round(specificity_LIGHT*100,2)\n",
    "print(specificity_LIGHT)"
   ]
  },
  {
   "cell_type": "code",
   "execution_count": 42,
   "metadata": {},
   "outputs": [
    {
     "name": "stdout",
     "output_type": "stream",
     "text": [
      "Precision_LIGHT :  0.8333333333333334\n",
      "Negative_Predictive_Value_LIGHT :  0.88\n",
      "83.33\n",
      "88.0\n"
     ]
    }
   ],
   "source": [
    "#Calculating PPV and NPV\n",
    "precision_LIGHT = cm[1,1]/(cm[1,1]+cm[0,1])\n",
    "print('Precision_LIGHT : ', precision_LIGHT )\n",
    "\n",
    "negative_predictive_value_LIGHT = cm[0,0]/(cm[0,0]+cm[1,0])\n",
    "print('Negative_Predictive_Value_LIGHT : ', negative_predictive_value_LIGHT)\n",
    "\n",
    "precision_LIGHT=round(precision_LIGHT*100,2)\n",
    "print(precision_LIGHT)\n",
    "negative_predictive_value_LIGHT=round(negative_predictive_value_LIGHT*100,2)\n",
    "print(negative_predictive_value_LIGHT)"
   ]
  },
  {
   "cell_type": "code",
   "execution_count": 43,
   "metadata": {},
   "outputs": [
    {
     "name": "stdout",
     "output_type": "stream",
     "text": [
      "logistic :0.8688524590163934\n",
      "[[23  5]\n",
      " [ 3 30]]\n"
     ]
    },
    {
     "name": "stderr",
     "output_type": "stream",
     "text": [
      "E:\\Anaconda\\lib\\site-packages\\sklearn\\linear_model\\logistic.py:432: FutureWarning: Default solver will be changed to 'lbfgs' in 0.22. Specify a solver to silence this warning.\n",
      "  FutureWarning)\n"
     ]
    }
   ],
   "source": [
    "#Logistic Regression\n",
    "from sklearn.linear_model import LogisticRegression\n",
    "classifier=LogisticRegression()\n",
    "classifier.fit(train_x,train_y)\n",
    "\n",
    "y_pred_logistic=classifier.predict(test_x)\n",
    "print('logistic :{}'.format(classifier.score(test_x,test_y)))\n",
    "\n",
    "y_pred_logistic=classifier.predict(test_x)\n",
    "cm=confusion_matrix(test_y,y_pred_logistic)\n",
    "print(cm)\n",
    "\n"
   ]
  },
  {
   "cell_type": "code",
   "execution_count": 44,
   "metadata": {},
   "outputs": [
    {
     "data": {
      "text/plain": [
       "<matplotlib.axes._subplots.AxesSubplot at 0x2532a5396d8>"
      ]
     },
     "execution_count": 44,
     "metadata": {},
     "output_type": "execute_result"
    },
    {
     "data": {
      "image/png": "[encoded data removed]",
      "text/plain": [
       "<Figure size 576x360 with 2 Axes>"
      ]
     },
     "metadata": {
      "needs_background": "light"
     },
     "output_type": "display_data"
    }
   ],
   "source": [
    "#Heatmap\n",
    "plt.figure(figsize=(8,5))\n",
    "sns.heatmap(cm,annot=True)"
   ]
  },
  {
   "cell_type": "code",
   "execution_count": 45,
   "metadata": {},
   "outputs": [
    {
     "name": "stdout",
     "output_type": "stream",
     "text": [
      "Sensitivity_Logistic :  0.9090909090909091\n",
      "Specificity_Logistic :  0.8214285714285714\n",
      "90.91\n",
      "82.14\n"
     ]
    }
   ],
   "source": [
    "#Calculating Sensitivity and Specificity\n",
    "sensitivity_Logistic = cm[1,1]/(cm[1,1]+cm[1,0])\n",
    "print('Sensitivity_Logistic : ', sensitivity_Logistic )\n",
    "\n",
    "specificity_Logistic = cm[0,0]/(cm[0,0]+cm[0,1])\n",
    "print('Specificity_Logistic : ', specificity_Logistic)\n",
    "\n",
    "sensitivity_Logistic=round(sensitivity_Logistic*100,2)\n",
    "print(sensitivity_Logistic)\n",
    "specificity_Logistic=round(specificity_Logistic*100,2)\n",
    "print(specificity_Logistic)"
   ]
  },
  {
   "cell_type": "code",
   "execution_count": 46,
   "metadata": {},
   "outputs": [
    {
     "name": "stdout",
     "output_type": "stream",
     "text": [
      "Precision_LOGISTIC :  0.8571428571428571\n",
      "Negative_Predictive_Value_LOGISTIC :  0.8846153846153846\n",
      "85.71\n",
      "88.46\n"
     ]
    }
   ],
   "source": [
    "#Calculating PPV and NPV\n",
    "precision_LOGISTIC = cm[1,1]/(cm[1,1]+cm[0,1])\n",
    "print('Precision_LOGISTIC : ', precision_LOGISTIC )\n",
    "\n",
    "negative_predictive_value_LOGISTIC = cm[0,0]/(cm[0,0]+cm[1,0])\n",
    "print('Negative_Predictive_Value_LOGISTIC : ', negative_predictive_value_LOGISTIC)\n",
    "\n",
    "precision_LOGISTIC=round(precision_LOGISTIC*100,2)\n",
    "print(precision_LOGISTIC)\n",
    "negative_predictive_value_LOGISTIC=round(negative_predictive_value_LOGISTIC*100,2)\n",
    "print(negative_predictive_value_LOGISTIC)"
   ]
  },
  {
   "cell_type": "code",
   "execution_count": 47,
   "metadata": {},
   "outputs": [
    {
     "name": "stdout",
     "output_type": "stream",
     "text": [
      "Ensemble of NBC and SVC\n",
      "Accuracy of the new multi model classifier is: 0.9180327868852459\n",
      "91.8\n",
      "[[25  3]\n",
      " [ 2 31]]\n"
     ]
    }
   ],
   "source": [
    "#Multi model ensemble formation (NBC and SVC)\n",
    "from sklearn.ensemble import VotingClassifier\n",
    "estimators=[('svc',classifier2),('nbc',nbc)]\n",
    "ensemble = VotingClassifier(estimators, voting='hard')\n",
    "ensemble.fit(train_x, train_y)\n",
    "print(\"Ensemble of NBC and SVC\")\n",
    "ensemble_accuracy=round(ensemble.score(test_x,test_y)*100,2)\n",
    "print(\"Accuracy of the new multi model classifier is:\",ensemble.score(test_x, test_y))\n",
    "print(ensemble_accuracy) \n",
    "\n",
    "\n",
    "y_pred_ensemble1=ensemble.predict(test_x)\n",
    "cm=confusion_matrix(test_y,y_pred_ensemble1)\n",
    "print(cm)"
   ]
  },
  {
   "cell_type": "code",
   "execution_count": 48,
   "metadata": {},
   "outputs": [
    {
     "data": {
      "text/plain": [
       "<matplotlib.axes._subplots.AxesSubplot at 0x2532a70ba20>"
      ]
     },
     "execution_count": 48,
     "metadata": {},
     "output_type": "execute_result"
    },
    {
     "data": {
      "image/png": "[encoded data removed]",
      "text/plain": [
       "<Figure size 576x360 with 2 Axes>"
      ]
     },
     "metadata": {
      "needs_background": "light"
     },
     "output_type": "display_data"
    }
   ],
   "source": [
    "#Heatmap\n",
    "plt.figure(figsize=(8,5))\n",
    "sns.heatmap(cm,annot=True)"
   ]
  },
  {
   "cell_type": "code",
   "execution_count": 49,
   "metadata": {},
   "outputs": [
    {
     "name": "stdout",
     "output_type": "stream",
     "text": [
      "Sensitivity_Ensemble1 :  0.9393939393939394\n",
      "Specificity_Ensemble1 :  0.8928571428571429\n",
      "93.94\n",
      "89.29\n"
     ]
    }
   ],
   "source": [
    "#Calculating Sensitivity and Specificity\n",
    "sensitivity_Ensemble1 = cm[1,1]/(cm[1,1]+cm[1,0])\n",
    "print('Sensitivity_Ensemble1 : ', sensitivity_Ensemble1 )\n",
    "\n",
    "specificity_Ensemble1 = cm[0,0]/(cm[0,0]+cm[0,1])\n",
    "print('Specificity_Ensemble1 : ', specificity_Ensemble1)\n",
    "\n",
    "sensitivity_Ensemble1=round(sensitivity_Ensemble1*100,2)\n",
    "print(sensitivity_Ensemble1)\n",
    "specificity_Ensemble1=round(specificity_Ensemble1*100,2)\n",
    "print(specificity_Ensemble1)"
   ]
  },
  {
   "cell_type": "code",
   "execution_count": 50,
   "metadata": {},
   "outputs": [
    {
     "name": "stdout",
     "output_type": "stream",
     "text": [
      "Precision_ENSEMBLE1 :  0.9117647058823529\n",
      "Negative_Predictive_Value_ENSEMBLE1 :  0.9259259259259259\n",
      "91.18\n",
      "92.59\n"
     ]
    }
   ],
   "source": [
    "#Calculating PPV and NPV\n",
    "precision_ENSEMBLE1 = cm[1,1]/(cm[1,1]+cm[0,1])\n",
    "print('Precision_ENSEMBLE1 : ', precision_ENSEMBLE1 )\n",
    "\n",
    "negative_predictive_value_ENSEMBLE1 = cm[0,0]/(cm[0,0]+cm[1,0])\n",
    "print('Negative_Predictive_Value_ENSEMBLE1 : ', negative_predictive_value_ENSEMBLE1)\n",
    "\n",
    "precision_ENSEMBLE1=round(precision_ENSEMBLE1*100,2)\n",
    "print(precision_ENSEMBLE1)\n",
    "negative_predictive_value_ENSEMBLE1=round(negative_predictive_value_ENSEMBLE1*100,2)\n",
    "print(negative_predictive_value_ENSEMBLE1)"
   ]
  },
  {
   "cell_type": "code",
   "execution_count": 51,
   "metadata": {},
   "outputs": [
    {
     "name": "stderr",
     "output_type": "stream",
     "text": [
      "E:\\Anaconda\\lib\\site-packages\\sklearn\\linear_model\\logistic.py:432: FutureWarning: Default solver will be changed to 'lbfgs' in 0.22. Specify a solver to silence this warning.\n",
      "  FutureWarning)\n"
     ]
    },
    {
     "name": "stdout",
     "output_type": "stream",
     "text": [
      "Ensemble of Logistic Regression, XGB and RFC\n",
      "Accuracy of the new multi model classifier is: 0.8852459016393442\n",
      "88.52\n",
      "[[24  4]\n",
      " [ 3 30]]\n"
     ]
    }
   ],
   "source": [
    "#Multi model ensemble formation (Logistic,XGB and RFC)\n",
    "from sklearn.ensemble import VotingClassifier\n",
    "estimators=[('logistic',classifier),('xgb',best_xgb),('rfc',best_rfc)]\n",
    "ensemble1 = VotingClassifier(estimators, voting='hard')\n",
    "ensemble1.fit(train_x, train_y)\n",
    "print(\"Ensemble of Logistic Regression, XGB and RFC\")\n",
    "ensemble_accuracy1=round(ensemble1.score(test_x,test_y)*100,2)\n",
    "print(\"Accuracy of the new multi model classifier is:\",ensemble1.score(test_x, test_y))\n",
    "print(ensemble_accuracy1) \n",
    "\n",
    "y_pred_ensemble2=ensemble1.predict(test_x)\n",
    "cm=confusion_matrix(test_y,y_pred_ensemble2)\n",
    "print(cm)"
   ]
  },
  {
   "cell_type": "code",
   "execution_count": 52,
   "metadata": {},
   "outputs": [
    {
     "data": {
      "text/plain": [
       "<matplotlib.axes._subplots.AxesSubplot at 0x2532a7ced30>"
      ]
     },
     "execution_count": 52,
     "metadata": {},
     "output_type": "execute_result"
    },
    {
     "data": {
      "image/png": "[encoded data removed]",
      "text/plain": [
       "<Figure size 576x360 with 2 Axes>"
      ]
     },
     "metadata": {
      "needs_background": "light"
     },
     "output_type": "display_data"
    }
   ],
   "source": [
    "#Heatmap\n",
    "plt.figure(figsize=(8,5))\n",
    "sns.heatmap(cm,annot=True)"
   ]
  },
  {
   "cell_type": "code",
   "execution_count": 53,
   "metadata": {},
   "outputs": [
    {
     "name": "stdout",
     "output_type": "stream",
     "text": [
      "Sensitivity_Ensemble2 :  0.9090909090909091\n",
      "Specificity_Ensemble2 :  0.8571428571428571\n",
      "90.91\n",
      "85.71\n"
     ]
    }
   ],
   "source": [
    "#Calculating Sensitivity and Specificity\n",
    "sensitivity_Ensemble2 = cm[1,1]/(cm[1,1]+cm[1,0])\n",
    "print('Sensitivity_Ensemble2 : ', sensitivity_Ensemble2 )\n",
    "\n",
    "specificity_Ensemble2 = cm[0,0]/(cm[0,0]+cm[0,1])\n",
    "print('Specificity_Ensemble2 : ', specificity_Ensemble2)\n",
    "\n",
    "sensitivity_Ensemble2=round(sensitivity_Ensemble2*100,2)\n",
    "print(sensitivity_Ensemble2)\n",
    "specificity_Ensemble2=round(specificity_Ensemble2*100,2)\n",
    "print(specificity_Ensemble2)"
   ]
  },
  {
   "cell_type": "code",
   "execution_count": 54,
   "metadata": {},
   "outputs": [
    {
     "name": "stdout",
     "output_type": "stream",
     "text": [
      "Precision_ENSEMBLE2 :  0.8823529411764706\n",
      "Negative_Predictive_Value_ENSEMBLE2 :  0.8888888888888888\n",
      "88.24\n",
      "88.89\n"
     ]
    }
   ],
   "source": [
    "#Calculating PPV and NPV\n",
    "precision_ENSEMBLE2 = cm[1,1]/(cm[1,1]+cm[0,1])\n",
    "print('Precision_ENSEMBLE2 : ', precision_ENSEMBLE2 )\n",
    "\n",
    "negative_predictive_value_ENSEMBLE2 = cm[0,0]/(cm[0,0]+cm[1,0])\n",
    "print('Negative_Predictive_Value_ENSEMBLE2 : ', negative_predictive_value_ENSEMBLE2)\n",
    "\n",
    "precision_ENSEMBLE2=round(precision_ENSEMBLE2*100,2)\n",
    "print(precision_ENSEMBLE2)\n",
    "negative_predictive_value_ENSEMBLE2=round(negative_predictive_value_ENSEMBLE2*100,2)\n",
    "print(negative_predictive_value_ENSEMBLE2)"
   ]
  },
  {
   "cell_type": "code",
   "execution_count": 55,
   "metadata": {},
   "outputs": [
    {
     "name": "stdout",
     "output_type": "stream",
     "text": [
      "The accuracy score achieved using Logistic Regression is: 86.89 %\n",
      "The accuracy score achieved using Naive Bayes is: 90.16 %\n",
      "The accuracy score achieved using Linear SVM is: 90.16 %\n",
      "The accuracy score achieved using KNN is: 90.16 %\n",
      "The accuracy score achieved using Decision Tree is: 78.69 %\n",
      "The accuracy score achieved using Regression Tree is: 85.25 %\n",
      "The accuracy score achieved using XGBoost is: 85.25 %\n",
      "The accuracy score achieved using LightGBM is: 85.25 %\n"
     ]
    }
   ],
   "source": [
    "#Printing the accuracies of all models implemented above\n",
    "from sklearn.metrics import accuracy_score\n",
    "\n",
    "score_lr = round(accuracy_score(test_y,y_pred_logistic)*100,2)\n",
    "print(\"The accuracy score achieved using Logistic Regression is: \"+str(score_lr)+\" %\")\n",
    "\n",
    "score_nb = round(accuracy_score(test_y,y_pred_nbc)*100,2)\n",
    "print(\"The accuracy score achieved using Naive Bayes is: \"+str(score_nb)+\" %\")\n",
    "\n",
    "score_svm = round(accuracy_score(test_y,y_pred_svc)*100,2)\n",
    "print(\"The accuracy score achieved using Linear SVM is: \"+str(score_svm)+\" %\")\n",
    "\n",
    "score_knn = round(accuracy_score(test_y,y_pred_knn)*100,2)\n",
    "print(\"The accuracy score achieved using KNN is: \"+str(score_knn)+\" %\")\n",
    "\n",
    "score_dt = round(accuracy_score(test_y,y_pred_dtc)*100,2)\n",
    "print(\"The accuracy score achieved using Decision Tree is: \"+str(score_dt)+\" %\")\n",
    "\n",
    "score_rf = round(accuracy_score(test_y,y_pred_rfc)*100,2)\n",
    "print(\"The accuracy score achieved using Regression Tree is: \"+str(score_rf)+\" %\")\n",
    "\n",
    "score_xgb = round(accuracy_score(test_y,y_pred_xgb)*100,2)\n",
    "print(\"The accuracy score achieved using XGBoost is: \"+str(score_xgb)+\" %\")\n",
    "\n",
    "score_lightgbm=round(accuracy_score(test_y,y_pred_lightgbm)*100,2)\n",
    "print(\"The accuracy score achieved using LightGBM is: \"+str(score_lightgbm)+\" %\")\n"
   ]
  },
  {
   "cell_type": "code",
   "execution_count": 56,
   "metadata": {},
   "outputs": [
    {
     "name": "stdout",
     "output_type": "stream",
     "text": [
      "The accuracy achieved using Logistic Regression is: 86.89 %\n",
      "The accuracy achieved using Naive Bayes is: 90.16 %\n",
      "The accuracy achieved using SVM is: 90.16 %\n",
      "The accuracy achieved using K-NN is: 90.16 %\n",
      "The accuracy achieved using Decision Tree is: 78.69 %\n",
      "The accuracy achieved using Random Forest is: 85.25 %\n",
      "The accuracy achieved using XGBoost is: 85.25 %\n",
      "The accuracy achieved using LightGBM is: 85.25 %\n",
      "The accuracy achieved using (SVC + NBC) is: 91.8 %\n",
      "The accuracy achieved using (LG + XGB + RFC) is: 88.52 %\n"
     ]
    },
    {
     "data": {
      "text/plain": [
       "<matplotlib.axes._subplots.AxesSubplot at 0x2532a862470>"
      ]
     },
     "execution_count": 56,
     "metadata": {},
     "output_type": "execute_result"
    },
    {
     "data": {
      "image/png": "[encoded data removed]",
      "text/plain": [
       "<Figure size 1080x432 with 1 Axes>"
      ]
     },
     "metadata": {},
     "output_type": "display_data"
    }
   ],
   "source": [
    "#Bar Graph showing the accuracies of all models including the ensembles formed\n",
    "scores = [score_lr,score_nb,score_svm,score_knn,score_dt,score_rf,score_xgb,score_lightgbm,ensemble_accuracy,ensemble_accuracy1]\n",
    "algorithms = [\"Logistic Regression\",\"Naive Bayes\",\"SVM\",\"K-NN\",\"Decision Tree\",\"Random Forest\",\"XGBoost\",\"LightGBM\",\"(SVC + NBC)\",\"(LG + XGB + RFC)\"]    \n",
    "\n",
    "for i in range(len(algorithms)):\n",
    "    print(\"The accuracy achieved using \"+algorithms[i]+\" is: \"+str(scores[i])+\" %\")\n",
    "    \n",
    "sns.set(rc={'figure.figsize':(15,6)})\n",
    "plt.xlabel(\"Algorithms\")\n",
    "plt.xticks(rotation=45)\n",
    "plt.ylabel(\"Accuracy score (%)\")\n",
    "sns.barplot(algorithms,scores)\n"
   ]
  },
  {
   "cell_type": "markdown",
   "metadata": {},
   "source": [
    "## The above graph shows the enhancement in the accuracies using ENSEMBLE LEARNING (VotingClassifier)"
   ]
  },
  {
   "cell_type": "code",
   "execution_count": 57,
   "metadata": {},
   "outputs": [
    {
     "name": "stdout",
     "output_type": "stream",
     "text": [
      "[[0.23294058 0.76705942]\n",
      " [0.14935328 0.85064672]\n",
      " [0.24909789 0.75090211]\n",
      " [0.04759376 0.95240624]\n",
      " [0.02929718 0.97070282]\n",
      " [0.11619918 0.88380082]\n",
      " [0.22320482 0.77679518]\n",
      " [0.17401073 0.82598927]\n",
      " [0.13044764 0.86955236]\n",
      " [0.31312836 0.68687164]\n",
      " [0.03638415 0.96361585]\n",
      " [0.59181611 0.40818389]\n",
      " [0.97721504 0.02278496]\n",
      " [0.95560037 0.04439963]\n",
      " [0.73618909 0.26381091]\n",
      " [0.9791918  0.0208082 ]\n",
      " [0.09563824 0.90436176]\n",
      " [0.91725676 0.08274324]\n",
      " [0.21369132 0.78630868]\n",
      " [0.98753879 0.01246121]\n",
      " [0.1029226  0.8970774 ]\n",
      " [0.99189863 0.00810137]\n",
      " [0.65833178 0.34166822]\n",
      " [0.93169785 0.06830215]\n",
      " [0.70187081 0.29812919]\n",
      " [0.98759389 0.01240611]\n",
      " [0.12869284 0.87130716]\n",
      " [0.14220008 0.85779992]\n",
      " [0.60519183 0.39480817]\n",
      " [0.03436395 0.96563605]\n",
      " [0.18135029 0.81864971]\n",
      " [0.98998158 0.01001842]\n",
      " [0.96340231 0.03659769]\n",
      " [0.95745157 0.04254843]\n",
      " [0.01934645 0.98065355]\n",
      " [0.01165899 0.98834101]\n",
      " [0.53234337 0.46765663]\n",
      " [0.33878311 0.66121689]\n",
      " [0.81498347 0.18501653]\n",
      " [0.84435229 0.15564771]\n",
      " [0.99246311 0.00753689]\n",
      " [0.13380199 0.86619801]\n",
      " [0.1487846  0.8512154 ]\n",
      " [0.98856269 0.01143731]\n",
      " [0.3985614  0.6014386 ]\n",
      " [0.09748785 0.90251215]\n",
      " [0.37931954 0.62068046]\n",
      " [0.00948173 0.99051827]\n",
      " [0.06326214 0.93673786]\n",
      " [0.01992629 0.98007371]\n",
      " [0.76827762 0.23172238]\n",
      " [0.2454171  0.7545829 ]\n",
      " [0.20013733 0.79986267]\n",
      " [0.03524426 0.96475574]\n",
      " [0.04191277 0.95808723]\n",
      " [0.69716409 0.30283591]\n",
      " [0.12450966 0.87549034]\n",
      " [0.89853952 0.10146048]\n",
      " [0.15199233 0.84800767]\n",
      " [0.68926026 0.31073974]\n",
      " [0.94524365 0.05475635]]\n"
     ]
    }
   ],
   "source": [
    "#AUC-ROC curve for all the models \"EXCEPT THE ENSEMBLES FORMED\"\n",
    "r_probs = [0 for _ in range(len(test_y))]\n",
    "SVC_probs = classifier2.predict_proba(test_x)\n",
    "KNN_probs=best_knn.predict_proba(test_x)\n",
    "DTC_probs=best_dtc.predict_proba(test_x)\n",
    "RFC_probs=best_rfc.predict_proba(test_x)\n",
    "NBC_probs=nbc.predict_proba(test_x)\n",
    "XGB_probs=best_xgb.predict_proba(test_x)\n",
    "LGBM_probs = best_light.predict_proba(test_x)\n",
    "LG_probs=classifier.predict_proba(test_x)\n",
    "print(SVC_probs)\n",
    "\n",
    "#Taking only the positive values\n",
    "SVC_probs=SVC_probs[:,1]\n",
    "KNN_probs=KNN_probs[:,1]\n",
    "DTC_probs=DTC_probs[:,1]\n",
    "RFC_probs=RFC_probs[:,1]\n",
    "NBC_probs=NBC_probs[:,1]\n",
    "XGB_probs=XGB_probs[:,1]\n",
    "LGBM_probs=LGBM_probs[:,1]\n",
    "LG_probs=LG_probs[:,1]"
   ]
  },
  {
   "cell_type": "code",
   "execution_count": 58,
   "metadata": {},
   "outputs": [
    {
     "name": "stdout",
     "output_type": "stream",
     "text": [
      "[0.76705942 0.85064672 0.75090211 0.95240624 0.97070282 0.88380082\n",
      " 0.77679518 0.82598927 0.86955236 0.68687164 0.96361585 0.40818389\n",
      " 0.02278496 0.04439963 0.26381091 0.0208082  0.90436176 0.08274324\n",
      " 0.78630868 0.01246121 0.8970774  0.00810137 0.34166822 0.06830215\n",
      " 0.29812919 0.01240611 0.87130716 0.85779992 0.39480817 0.96563605\n",
      " 0.81864971 0.01001842 0.03659769 0.04254843 0.98065355 0.98834101\n",
      " 0.46765663 0.66121689 0.18501653 0.15564771 0.00753689 0.86619801\n",
      " 0.8512154  0.01143731 0.6014386  0.90251215 0.62068046 0.99051827\n",
      " 0.93673786 0.98007371 0.23172238 0.7545829  0.79986267 0.96475574\n",
      " 0.95808723 0.30283591 0.87549034 0.10146048 0.84800767 0.31073974\n",
      " 0.05475635]\n"
     ]
    }
   ],
   "source": [
    "print(SVC_probs)"
   ]
  },
  {
   "cell_type": "code",
   "execution_count": 59,
   "metadata": {},
   "outputs": [],
   "source": [
    "from sklearn.metrics import roc_curve, roc_auc_score"
   ]
  },
  {
   "cell_type": "code",
   "execution_count": 60,
   "metadata": {},
   "outputs": [],
   "source": [
    "r_auc = roc_auc_score(test_y, r_probs)\n",
    "SVC_auc = roc_auc_score(test_y, SVC_probs)\n",
    "KNN_auc = roc_auc_score(test_y, KNN_probs)\n",
    "DTC_auc = roc_auc_score(test_y, DTC_probs)\n",
    "RFC_auc = roc_auc_score(test_y, RFC_probs)\n",
    "NBC_auc = roc_auc_score(test_y, NBC_probs)\n",
    "XGB_auc = roc_auc_score(test_y, XGB_probs)\n",
    "LGBM_auc = roc_auc_score(test_y, LGBM_probs)\n",
    "LG_auc = roc_auc_score(test_y, LG_probs)"
   ]
  },
  {
   "cell_type": "code",
   "execution_count": 61,
   "metadata": {},
   "outputs": [
    {
     "name": "stdout",
     "output_type": "stream",
     "text": [
      "Random (chance) Prediction: AUROC = 0.500\n",
      "SVC: AUROC = 0.908\n",
      "KNN: AUROC = 0.916\n",
      "DTC: AUROC = 0.846\n",
      "RFC: AUROC = 0.903\n",
      "NBC: AUROC = 0.926\n",
      "XGB: AUROC = 0.881\n",
      "LGBM: AUROC = 0.902\n",
      "LG: AUROC = 0.898\n"
     ]
    }
   ],
   "source": [
    "print('Random (chance) Prediction: AUROC = %.3f' % (r_auc))\n",
    "print('SVC: AUROC = %.3f' % (SVC_auc))\n",
    "print('KNN: AUROC = %.3f' % (KNN_auc))\n",
    "print('DTC: AUROC = %.3f' % (DTC_auc))\n",
    "print('RFC: AUROC = %.3f' % (RFC_auc))\n",
    "print('NBC: AUROC = %.3f' % (NBC_auc))\n",
    "print('XGB: AUROC = %.3f' % (XGB_auc))\n",
    "print('LGBM: AUROC = %.3f' % (LGBM_auc))\n",
    "print('LG: AUROC = %.3f' % (LG_auc))"
   ]
  },
  {
   "cell_type": "code",
   "execution_count": 62,
   "metadata": {},
   "outputs": [],
   "source": [
    "r_fpr, r_tpr, _ = roc_curve(test_y, r_probs)\n",
    "svc_fpr, svc_tpr, _ = roc_curve(test_y, SVC_probs)\n",
    "knn_fpr, knn_tpr, _ = roc_curve(test_y, KNN_probs)\n",
    "dtc_fpr, dtc_tpr, _ = roc_curve(test_y, DTC_probs)\n",
    "rfc_fpr, rfc_tpr, _ = roc_curve(test_y, RFC_probs)\n",
    "nbc_fpr, nbc_tpr, _ = roc_curve(test_y, NBC_probs)\n",
    "xgb_fpr, xgb_tpr, _ = roc_curve(test_y, XGB_probs)\n",
    "lgbm_fpr, lgbm_tpr, _ = roc_curve(test_y, LGBM_probs)\n",
    "lg_fpr, lg_tpr, _ = roc_curve(test_y, LG_probs)"
   ]
  },
  {
   "cell_type": "code",
   "execution_count": 63,
   "metadata": {},
   "outputs": [
    {
     "data": {
      "image/png": "[encoded data removed]",
      "text/plain": [
       "<Figure size 1080x432 with 1 Axes>"
      ]
     },
     "metadata": {},
     "output_type": "display_data"
    }
   ],
   "source": [
    "plt.plot(r_fpr, r_tpr, linestyle='--', label='Random prediction (AUROC = %0.3f)' % r_auc)\n",
    "plt.plot(svc_fpr, svc_tpr, marker='.', label='SVC (AUROC = %0.3f)' % SVC_auc)\n",
    "plt.plot(knn_fpr, knn_tpr, marker='.', label='KNN (AUROC = %0.3f)' % KNN_auc)\n",
    "plt.plot(dtc_fpr, dtc_tpr, marker='.', label='DTC (AUROC = %0.3f)' % DTC_auc)\n",
    "plt.plot(rfc_fpr, rfc_tpr, marker='.', label='RFC (AUROC = %0.3f)' % RFC_auc)\n",
    "plt.plot(nbc_fpr, nbc_tpr, marker='.', label='NBC (AUROC = %0.3f)' % NBC_auc)\n",
    "plt.plot(xgb_fpr, xgb_tpr, marker='.', label='XGB (AUROC = %0.3f)' % XGB_auc)\n",
    "plt.plot(lgbm_fpr, lgbm_tpr, marker='.', label='LGBM (AUROC = %0.3f)' % LGBM_auc)\n",
    "plt.plot(lg_fpr, lg_tpr, marker='.', label='LR (AUROC = %0.3f)' % LG_auc)\n",
    "\n",
    "# Title\n",
    "plt.title('ROC Plot')\n",
    "# Axis labels\n",
    "plt.xlabel('False Positive Rate')\n",
    "plt.ylabel('True Positive Rate')\n",
    "# Show legend\n",
    "plt.legend() # \n",
    "# Show plot\n",
    "plt.show()"
   ]
  },
  {
   "cell_type": "markdown",
   "metadata": {},
   "source": [
    "## End of Project"
   ]
  }
 ],
 "metadata": {
  "kernelspec": {
   "display_name": "Python 3",
   "language": "python",
   "name": "python3"
  },
  "language_info": {
   "codemirror_mode": {
    "name": "ipython",
    "version": 3
   },
   "file_extension": ".py",
   "mimetype": "text/x-python",
   "name": "python",
   "nbconvert_exporter": "python",
   "pygments_lexer": "ipython3",
   "version": "3.7.3"
  }
 },
 "nbformat": 4,
 "nbformat_minor": 2
}
